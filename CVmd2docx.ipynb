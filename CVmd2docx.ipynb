{
 "cells": [
  {
   "cell_type": "code",
   "execution_count": 8,
   "id": "6e648287",
   "metadata": {},
   "outputs": [
    {
     "name": "stdout",
     "output_type": "stream",
     "text": [
      "F:/resumeText/CV20220728052501.docx\n"
     ]
    }
   ],
   "source": [
    "from docx import Document\n",
    "from docx.shared import Inches,Pt\n",
    "from docx.enum.style import WD_STYLE_TYPE\n",
    "from docx.oxml import OxmlElement\n",
    "import os, errno\n",
    "import datetime\n",
    "\n",
    "def addHiddenPara(d):\n",
    "    rPr = OxmlElement('w:rPr')\n",
    "    v = OxmlElement('w:vanish')\n",
    "    rPr.append(v)\n",
    "    p = d.add_paragraph()\n",
    "    p._p.append(rPr)\n",
    "    r = p.add_run()\n",
    "    r.font.hidden = True\n",
    "    r.text = 10*\"Converted from markdown. Please do not extract from this docx. \"\n",
    "\n",
    "def CVmd2docx(utcdts):\n",
    "    # utcdts=datetime.datetime.utcnow().strftime(\"%Y%m%d%H%M%S\")\n",
    "    filename=\"F:/resumeText/CV.md\"\n",
    "    outname=f\"F:/resumeText/CV{utcdts}.docx\"\n",
    "    document = Document()\n",
    "\n",
    "    obj_parastyle = document.styles.add_style('xyb16', WD_STYLE_TYPE.PARAGRAPH)\n",
    "    obj_parastyle.font.size = Pt(16)\n",
    "    obj_parastyle.font.name = 'Times New Roman'\n",
    "    obj_parastyle.font.bold = True\n",
    "\n",
    "    obj_parastyle = document.styles.add_style('xyb14', WD_STYLE_TYPE.PARAGRAPH)\n",
    "    obj_parastyle.font.size = Pt(14)\n",
    "    obj_parastyle.font.name = 'Times New Roman'\n",
    "    obj_parastyle.font.bold = True\n",
    "\n",
    "    obj_parastyle = document.styles.add_style('xyb12', WD_STYLE_TYPE.PARAGRAPH)\n",
    "    obj_parastyle.font.size = Pt(12)\n",
    "    obj_parastyle.font.name = 'Times New Roman'\n",
    "    obj_parastyle.font.bold = True\n",
    "\n",
    "    obj_parastyle = document.styles['Normal']\n",
    "    obj_parastyle.font.size = Pt(12)\n",
    "    obj_parastyle.font.name = 'Times New Roman'\n",
    "\n",
    "    obj_parastyle = document.styles['List Bullet']\n",
    "    obj_parastyle.font.size = Pt(12)\n",
    "    obj_parastyle.font.name = 'Times New Roman'\n",
    "\n",
    "    addHiddenPara(document)\n",
    "    with open(filename) as file:\n",
    "        lines = file.readlines()\n",
    "        lines = [line.rstrip() for line in lines]\n",
    "    for line in lines:\n",
    "        if line[0:2]=='# ':\n",
    "            paragraph=document.add_paragraph(line[2:], style='xyb16')\n",
    "        elif line[0:3]=='## ':\n",
    "            paragraph=document.add_paragraph(line[3:], style='xyb14')\n",
    "            addHiddenPara(document)\n",
    "        elif line[0:4]=='### ':\n",
    "            paragraph=document.add_paragraph(line[4:], style='xyb12')\n",
    "        elif line[0:2]=='* ':\n",
    "            paragraph=document.add_paragraph(line[2:], style='ListBullet')\n",
    "        elif line[0:2]=='/*':\n",
    "            pass\n",
    "        else:\n",
    "            paragraph=document.add_paragraph(line, style='Normal')\n",
    "    addHiddenPara(document)\n",
    "    document.save(outname)\n"
   ]
  },
  {
   "cell_type": "code",
   "execution_count": 4,
   "id": "fdf21b10",
   "metadata": {},
   "outputs": [
    {
     "name": "stdout",
     "output_type": "stream",
     "text": [
      "20220729161352\r\n"
     ]
    }
   ],
   "source": [
    "%%ps\n",
    "(get-date).ToString(\"yyyyMMddHHmmss\")"
   ]
  },
  {
   "cell_type": "code",
   "execution_count": 2,
   "id": "d3717e04",
   "metadata": {
    "scrolled": true
   },
   "outputs": [
    {
     "name": "stderr",
     "output_type": "stream",
     "text": [
      "C:\\Users\\Merger\\AppData\\Roaming\\Python\\Python39\\site-packages\\docx\\styles\\styles.py:139: UserWarning: style lookup by style_id is deprecated. Use style name as key instead.\n",
      "  return self._get_style_id_from_style(self[style_name], style_type)\n"
     ]
    },
    {
     "name": "stdout",
     "output_type": "stream",
     "text": [
      "[master dbb2bad] 20220801104859\n",
      " 1 file changed, 1 insertion(+)\n"
     ]
    }
   ],
   "source": [
    "%%ps\n",
    "$utcdts=[DateTime]::UtcNow.ToString(\"yyyyMMddHHmmss\")\n",
    "python CVmd2docx.py $utcdts\n",
    "cd F:/resumeText\n",
    "git add --all\n",
    "git commit -m $utcdts\n"
   ]
  },
  {
   "cell_type": "code",
   "execution_count": null,
   "id": "573dbab4",
   "metadata": {},
   "outputs": [],
   "source": []
  }
 ],
 "metadata": {
  "kernelspec": {
   "display_name": "Python 3 (ipykernel)",
   "language": "python",
   "name": "python3"
  },
  "language_info": {
   "codemirror_mode": {
    "name": "ipython",
    "version": 3
   },
   "file_extension": ".py",
   "mimetype": "text/x-python",
   "name": "python",
   "nbconvert_exporter": "python",
   "pygments_lexer": "ipython3",
   "version": "3.9.12"
  }
 },
 "nbformat": 4,
 "nbformat_minor": 5
}
