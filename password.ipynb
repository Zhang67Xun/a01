{
 "cells": [
  {
   "cell_type": "code",
   "execution_count": 29,
   "id": "4e741db0",
   "metadata": {},
   "outputs": [
    {
     "name": "stdout",
     "output_type": "stream",
     "text": [
      "70617373776f7264\n",
      "8f9e8c8c88908d9b\n",
      "password\n"
     ]
    }
   ],
   "source": [
    "# simple xor for password\n",
    "b= bytearray('password', 'ascii')\n",
    "print( ''.join(f'{x:02x}' for x in b))\n",
    "for i in range(len(b)):\n",
    "#     print(f'{b[i]:08b}')\n",
    "    b[i] ^= 0xff\n",
    "a = ''.join(f'{x:02x}' for x in b)\n",
    "print(a)\n",
    "\n",
    "a=bytearray.fromhex('8f9e8c8c88908d9b')\n",
    "for i in range(len(a)):\n",
    "    a[i] ^= 0xff\n",
    "b = a.decode('ascii')\n",
    "print(b)\n"
   ]
  },
  {
   "cell_type": "code",
   "execution_count": null,
   "id": "7a9ead91",
   "metadata": {},
   "outputs": [],
   "source": []
  }
 ],
 "metadata": {
  "kernelspec": {
   "display_name": "Python 3 (ipykernel)",
   "language": "python",
   "name": "python3"
  },
  "language_info": {
   "codemirror_mode": {
    "name": "ipython",
    "version": 3
   },
   "file_extension": ".py",
   "mimetype": "text/x-python",
   "name": "python",
   "nbconvert_exporter": "python",
   "pygments_lexer": "ipython3",
   "version": "3.9.12"
  }
 },
 "nbformat": 4,
 "nbformat_minor": 5
}
